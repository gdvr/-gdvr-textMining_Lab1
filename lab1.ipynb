{
 "cells": [
  {
   "cell_type": "markdown",
   "id": "f91b8ef4-d6d5-4475-9f7b-6cddfd618836",
   "metadata": {},
   "source": [
    "# Librerias compartidas"
   ]
  },
  {
   "cell_type": "code",
   "execution_count": 14,
   "id": "a9e3191b-4927-4d3a-9c2a-0b1687869b8d",
   "metadata": {
    "tags": []
   },
   "outputs": [],
   "source": [
    "import cv2\n",
    "import numpy as np"
   ]
  },
  {
   "cell_type": "markdown",
   "id": "598da34b-bb93-4f09-ad95-718135bfff46",
   "metadata": {},
   "source": [
    "# Problema 1\n",
    "Desarrolle una funcion la cual reciba dos parametros, una imagen y un entero llamado color, la funcion debe devolver una imagen la cual tenga activos los canales de color segun los siguientes puntos: <br> <br>\n",
    "Si el parametro color vale 1, la imagen debe mostrar activos ´unicamente el color azul. <br>\n",
    "Si el parametro color vale 2, la imagen debe mostrar activos ´unicamente el color verde. <br>\n",
    "Si el parametro color vale 3, la imagen debe mostrar activos ´unicamente el color rojo. <br>\n",
    "Si el parametro color vale 10, la imagen debe mostrar activos ´unicamente los colores rojo y verde.  <br>\n",
    "Si el parametro color vale 20, la imagen debe mostrar activos ´unicamente los colores verde y azul.  <br>\n",
    "Si el par´ametro color vale 30, la imagen debe mostrar activos ´unicamente los colores azul y rojo. <br>"
   ]
  },
  {
   "cell_type": "code",
   "execution_count": 15,
   "id": "962fd4fb-fa57-4219-b105-3f62ad582576",
   "metadata": {
    "tags": []
   },
   "outputs": [],
   "source": [
    "def activar_canales(imagen, color):\n",
    "    imagen_modificada = np.zeros_like(imagen)\n",
    "    \n",
    "    if color == 1:\n",
    "        imagen_modificada[:, :, 0] = imagen[:, :, 0]\n",
    "    elif color == 2: \n",
    "        imagen_modificada[:, :, 1] = imagen[:, :, 1]\n",
    "    elif color == 3: \n",
    "        imagen_modificada[:, :, 2] = imagen[:, :, 2]\n",
    "    elif color == 10:  \n",
    "        imagen_modificada[:, :, 1] = imagen[:, :, 1]\n",
    "        imagen_modificada[:, :, 2] = imagen[:, :, 2]\n",
    "    elif color == 20:\n",
    "        imagen_modificada[:, :, 0] = imagen[:, :, 0]\n",
    "        imagen_modificada[:, :, 1] = imagen[:, :, 1]\n",
    "    elif color == 30:  \n",
    "        imagen_modificada[:, :, 0] = imagen[:, :, 0]\n",
    "        imagen_modificada[:, :, 2] = imagen[:, :, 2]\n",
    "    else:\n",
    "        raise ValueError(\"El valor de color debe ser 1, 2, 3, 10, 20 o 30\")\n",
    "    \n",
    "    return imagen_modificada\n"
   ]
  },
  {
   "cell_type": "code",
   "execution_count": 16,
   "id": "31c44f8f-9a7f-4ff5-8bfd-f03bd3f77933",
   "metadata": {
    "tags": []
   },
   "outputs": [],
   "source": [
    "imagen = cv2.imread('img.jpg')\n",
    "color = 3\n",
    "imagen_resultante = activar_canales(imagen, color)\n",
    "\n",
    "cv2.imshow('Imagen Resultante', imagen_resultante)\n",
    "cv2.waitKey(0)\n",
    "cv2.destroyAllWindows()"
   ]
  },
  {
   "cell_type": "markdown",
   "id": "d37a466d-4c6c-4eb0-affc-135ea74adba8",
   "metadata": {},
   "source": [
    "# Problema 2\n",
    "En el .zip del laboratorio se le compartio un conjunto de imagenes en escala de grises (imagen1,imagen2, perro) estas imagenes fueron creadas utilizando una escala de grises en 3D, cree una funcion que dadas las 3 im´agenes se construya la imagen original a color."
   ]
  },
  {
   "cell_type": "code",
   "execution_count": 18,
   "id": "9ad55cc8-ff09-4f50-9874-d88f3601fd18",
   "metadata": {
    "tags": []
   },
   "outputs": [],
   "source": [
    "def reconstruir_imagen_color(carpeta, imagenes):\n",
    "    # Leer las imágenes en escala de grises desde sus respectivas carpetas\n",
    "    img1 = cv2.imread(f'{carpeta}/{imagenes[0]}.jpg', cv2.IMREAD_GRAYSCALE)\n",
    "    img2 = cv2.imread(f'{carpeta}/{imagenes[1]}.jpg', cv2.IMREAD_GRAYSCALE)\n",
    "    img3 = cv2.imread(f'{carpeta}/{imagenes[2]}.jpg', cv2.IMREAD_GRAYSCALE)        \n",
    "   \n",
    "    imagen_color = np.zeros((img1.shape[0], img1.shape[1], 3), dtype=np.uint8)\n",
    "    \n",
    "    imagen_color[:, :, 0] = img1  # Canal azul\n",
    "    imagen_color[:, :, 1] = img2  # Canal verde\n",
    "    imagen_color[:, :, 2] = img3  # Canal rojo\n",
    "    \n",
    "    return imagen_color"
   ]
  },
  {
   "cell_type": "code",
   "execution_count": 26,
   "id": "4fe81864-ec01-4a98-9277-4efec1a5dfc6",
   "metadata": {
    "tags": []
   },
   "outputs": [],
   "source": [
    "inputs = [\n",
    "    {\n",
    "    'carpeta': 'perro',\n",
    "    'imagenes': ['perro_salida_gray_azul','perro_salida_gray_verde','perro_salida_gray_rojo']\n",
    "    },\n",
    "     {\n",
    "    'carpeta': 'imagen1',\n",
    "    'imagenes': ['imagen1_salida_gray_azul','imagen1_salida_gray_verde','imagen1_salida_gray_rojo']\n",
    "    },\n",
    "     {\n",
    "    'carpeta': 'imagen2',\n",
    "    'imagenes': ['imagen2_salida_gray_azul','imagen2_salida_gray_verde','imagen2_salida_gray_rojo']\n",
    "    }\n",
    "]\n",
    "\n",
    "for record in inputs:\n",
    "    imagen_color = reconstruir_imagen_color(record['carpeta'], record['imagenes'])\n",
    "    cv2.imshow('Imagen Color', imagen_color)\n",
    "    cv2.waitKey(0)\n",
    "    cv2.destroyAllWindows()"
   ]
  },
  {
   "cell_type": "markdown",
   "id": "e87126a9-824c-40fc-af16-f75f910afed1",
   "metadata": {},
   "source": [
    "# Problema 3:\n",
    "Cree una funcion que dada una imagen cree una escala de grises en tres dimensiones, tome en cuenta que su funcion debe crear 3 imagenes como salida. Para entregar este ejercicio debe incluir una las imagenes que haya utilizado como prueba y el resultado de las misma, no puede utilizar la imagen del Problema #2"
   ]
  },
  {
   "cell_type": "code",
   "execution_count": 29,
   "id": "24b1f849-4ac8-4d84-baf9-6c15ca79f8de",
   "metadata": {
    "tags": []
   },
   "outputs": [],
   "source": [
    "import os\n",
    "\n",
    "def crear_escala_grises_3d(imagen, ruta_salida):\n",
    "    imagen_color = cv2.imread(imagen)\n",
    "    \n",
    "    azul, verde, rojo = cv2.split(imagen_color)\n",
    "    \n",
    "    if not os.path.exists(ruta_salida):\n",
    "        os.makedirs(ruta_salida)\n",
    "    \n",
    "    ruta_azul = os.path.join(ruta_salida, 'imagen_azul.jpg')\n",
    "    ruta_verde = os.path.join(ruta_salida, 'imagen_verde.jpg')\n",
    "    ruta_rojo = os.path.join(ruta_salida, 'imagen_rojo.jpg')\n",
    "    \n",
    "    # Guardar las imágenes en escala de grises\n",
    "    cv2.imwrite(ruta_azul, azul)\n",
    "    cv2.imwrite(ruta_verde, verde)\n",
    "    cv2.imwrite(ruta_rojo, rojo)\n",
    "    \n",
    "    return ruta_azul, ruta_verde, ruta_rojo"
   ]
  },
  {
   "cell_type": "code",
   "execution_count": 30,
   "id": "6fde8c07-7306-4c3d-9c93-0d75308c5a71",
   "metadata": {
    "tags": []
   },
   "outputs": [
    {
     "name": "stdout",
     "output_type": "stream",
     "text": [
      "Imágenes en escala de grises creadas en las siguientes rutas:\n",
      "Imagen azul: problema_3\\imagen_azul.jpg\n",
      "Imagen verde: problema_3\\imagen_verde.jpg\n",
      "Imagen roja: problema_3\\imagen_rojo.jpg\n"
     ]
    }
   ],
   "source": [
    "imagen = 'img.jpg'\n",
    "ruta_salida = 'problema_3'\n",
    "\n",
    "rutas_imagenes_grises = crear_escala_grises_3d(imagen, ruta_salida)\n",
    "\n",
    "print(\"Imágenes en escala de grises creadas en las siguientes rutas:\")\n",
    "print(\"Imagen azul:\", rutas_imagenes_grises[0])\n",
    "print(\"Imagen verde:\", rutas_imagenes_grises[1])\n",
    "print(\"Imagen roja:\", rutas_imagenes_grises[2])"
   ]
  },
  {
   "cell_type": "code",
   "execution_count": 32,
   "id": "fd8e4e4d-2430-4279-9368-fd1c3b4045e0",
   "metadata": {
    "tags": []
   },
   "outputs": [],
   "source": [
    "# Se verifica que la salida de las imagenes puedan restaurar la imagen original\n",
    "imagen_color = reconstruir_imagen_color(\"problema_3\", [\"imagen_azul\",\"imagen_verde\",\"imagen_rojo\"])\n",
    "cv2.imshow('Imagen Color', imagen_color)\n",
    "cv2.waitKey(0)\n",
    "cv2.destroyAllWindows()"
   ]
  },
  {
   "cell_type": "code",
   "execution_count": null,
   "id": "18bffada-3611-4853-8768-dacd15f97f3b",
   "metadata": {},
   "outputs": [],
   "source": []
  }
 ],
 "metadata": {
  "kernelspec": {
   "display_name": "Python 3 (ipykernel)",
   "language": "python",
   "name": "python3"
  },
  "language_info": {
   "codemirror_mode": {
    "name": "ipython",
    "version": 3
   },
   "file_extension": ".py",
   "mimetype": "text/x-python",
   "name": "python",
   "nbconvert_exporter": "python",
   "pygments_lexer": "ipython3",
   "version": "3.11.5"
  }
 },
 "nbformat": 4,
 "nbformat_minor": 5
}
